{
 "cells": [
  {
   "cell_type": "markdown",
   "metadata": {},
   "source": [
    "# Export Training Data\n",
    "\n",
    "Now, the training data image chips need to be exported to be able to train the model."
   ]
  },
  {
   "cell_type": "code",
   "execution_count": 1,
   "metadata": {},
   "outputs": [],
   "source": [
    "import importlib\n",
    "import os\n",
    "from pathlib import Path\n",
    "import sys\n",
    "from zipfile import ZipFile\n",
    "\n",
    "from arcgis.features import GeoAccessor, GeoSeriesAccessor\n",
    "from arcgis.gis import GIS\n",
    "from dotenv import load_dotenv, find_dotenv\n",
    "import pandas as pd\n",
    "import requests\n",
    "\n",
    "# import arcpy if available\n",
    "if importlib.util.find_spec(\"arcpy\") is not None:\n",
    "    import arcpy"
   ]
  },
  {
   "cell_type": "markdown",
   "metadata": {},
   "source": [
    "This starts with some routes to project paths and included packages, all useful for accessing project resources."
   ]
  },
  {
   "cell_type": "code",
   "execution_count": 2,
   "metadata": {},
   "outputs": [
    {
     "data": {
      "text/plain": [
       "True"
      ]
     },
     "execution_count": 2,
     "metadata": {},
     "output_type": "execute_result"
    }
   ],
   "source": [
    "# paths to common data locations - NOTE: to convert any path to a raw string, simply use str(path_instance)\n",
    "dir_prj = Path.cwd().parent\n",
    "\n",
    "# import the project package from the project package path\n",
    "sys.path.insert(0, str(dir_prj/'src'))\n",
    "import lndcvr_unet\n",
    "from ck_tools import paths\n",
    "\n",
    "# load the \"autoreload\" extension so that code can change, & always reload modules so that as you change code in src, it gets loaded\n",
    "%load_ext autoreload\n",
    "%autoreload 2\n",
    "\n",
    "# load environment variables from .env\n",
    "load_dotenv(find_dotenv())"
   ]
  },
  {
   "cell_type": "code",
   "execution_count": null,
   "metadata": {},
   "outputs": [],
   "source": [
    "with arcpy.EnvManager(extent=\"1549117.94355901 1965233.17437049 1701344.29041398 2153063.39652937\", cellSize=\"MAXOF\"):\n",
    "    arcpy.ia.ExportTrainingDataForDeepLearning(\n",
    "        in_raster=\"https://services.arcgisonline.com/arcgis/rest/services/World_Imagery/MapServer/3\",\n",
    "        out_folder=r\"D:\\projects\\landcover-unet-example\\data\\raw\\training_data\", \n",
    "        in_class_data=\"Baywide_13Class_20132014.tif\", \n",
    "        image_chip_format=\"PNG\", \n",
    "        tile_size_x=400, \n",
    "        tile_size_y=400, \n",
    "        stride_x=0, \n",
    "        stride_y=0, \n",
    "        output_nofeature_tiles=\"ONLY_TILES_WITH_FEATURES\", \n",
    "        metadata_format=\"Classified_Tiles\", \n",
    "        start_index=0, \n",
    "        class_value_field=None, \n",
    "        buffer_radius=0, \n",
    "        in_mask_polygons=None, \n",
    "        rotation_angle=0, \n",
    "        reference_system=\"MAP_SPACE\", \n",
    "        processing_mode=\"PROCESS_AS_MOSAICKED_IMAGE\", \n",
    "        blacken_around_feature=\"NO_BLACKEN\", \n",
    "        crop_mode=\"FIXED_SIZE\"\n",
    "    )"
   ]
  }
 ],
 "metadata": {
  "kernelspec": {
   "display_name": "Python 3",
   "language": "python",
   "name": "python3"
  },
  "language_info": {
   "codemirror_mode": {
    "name": "ipython",
    "version": 3
   },
   "file_extension": ".py",
   "mimetype": "text/x-python",
   "name": "python",
   "nbconvert_exporter": "python",
   "pygments_lexer": "ipython3",
   "version": "3.7.9"
  }
 },
 "nbformat": 4,
 "nbformat_minor": 4
}
